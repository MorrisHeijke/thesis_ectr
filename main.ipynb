{
 "cells": [
  {
   "cell_type": "markdown",
   "metadata": {},
   "source": [
    "Setting up shop"
   ]
  },
  {
   "cell_type": "code",
   "execution_count": 33,
   "metadata": {},
   "outputs": [],
   "source": [
    "import pandas as pd\n",
    "import numpy as np\n",
    "import matplotlib.pyplot as plt\n",
    "import xgboost as xgb\n",
    "import re\n",
    "import arviz as az\n",
    "\n",
    "from sklearn.ensemble import RandomForestRegressor\n",
    "from sklearn.linear_model import LinearRegression\n",
    "from sklearn.model_selection import GridSearchCV\n",
    "\n",
    "import functions as func"
   ]
  },
  {
   "cell_type": "code",
   "execution_count": 34,
   "metadata": {},
   "outputs": [
    {
     "name": "stdout",
     "output_type": "stream",
     "text": [
      "The autoreload extension is already loaded. To reload it, use:\n",
      "  %reload_ext autoreload\n"
     ]
    }
   ],
   "source": [
    "%load_ext autoreload\n",
    "%autoreload 2"
   ]
  },
  {
   "cell_type": "code",
   "execution_count": 35,
   "metadata": {},
   "outputs": [],
   "source": [
    "az.style.use(\"arviz-darkgrid\")"
   ]
  },
  {
   "cell_type": "markdown",
   "metadata": {},
   "source": [
    "Loading data"
   ]
  },
  {
   "cell_type": "code",
   "execution_count": 4,
   "metadata": {},
   "outputs": [],
   "source": [
    "df = pd.read_pickle(\"2023-10.pkl\")\n",
    "df = df.rename(columns = lambda x:re.sub('[^A-Za-z0-9_]+', '', x))\n",
    "\n",
    "# train test split date\n",
    "split_date = \"2022-06-01\"\n",
    "X, y, X_test, y_test = func.train_test_split(df, split_date)"
   ]
  },
  {
   "cell_type": "markdown",
   "metadata": {},
   "source": [
    "Difference non stationary variables"
   ]
  },
  {
   "cell_type": "code",
   "execution_count": 5,
   "metadata": {},
   "outputs": [],
   "source": [
    "non_stationary_vars = func.get_non_stat_vars(df)\n",
    "diff_df = df\n",
    "diff_df[non_stationary_vars] = df[non_stationary_vars].diff()\n",
    "\n",
    "non_stationary_vars_diff = func.get_non_stat_vars(diff_df)\n",
    "diff_diff_df = diff_df\n",
    "diff_diff_df[non_stationary_vars_diff] = diff_df[non_stationary_vars_diff].diff()\n",
    "\n",
    "non_stationary_vars_diff_diff = func.get_non_stat_vars(diff_diff_df)\n",
    "diff_diff_df = diff_diff_df.dropna()\n",
    "X_diff, y_diff, X_diff_test, y_diff_test = func.train_test_split(diff_diff_df, split_date)"
   ]
  },
  {
   "cell_type": "markdown",
   "metadata": {},
   "source": [
    "Getting linear correlations"
   ]
  },
  {
   "cell_type": "code",
   "execution_count": 6,
   "metadata": {},
   "outputs": [
    {
     "data": {
      "text/plain": [
       "['BAA', 'GS10', 'CUMFNS', 'AAA', 'BUSINVx', 'OILPRICEx', 'FEDFUNDS']"
      ]
     },
     "execution_count": 6,
     "metadata": {},
     "output_type": "execute_result"
    }
   ],
   "source": [
    "correlation = diff_diff_df.corr()['inflation'].sort_values(ascending=False)\n",
    "pearson_scores = correlation[1:26].sort_values(ascending=True)\n",
    "linear_significant = pearson_scores[pearson_scores > 0.2].index.tolist()\n",
    "linear_significant"
   ]
  },
  {
   "cell_type": "markdown",
   "metadata": {},
   "source": [
    "Estimate the hyperparameter $\\lambda$ for the Bayesian LASSO"
   ]
  },
  {
   "cell_type": "code",
   "execution_count": 17,
   "metadata": {},
   "outputs": [
    {
     "data": {
      "text/html": [
       "<style>#sk-container-id-1 {color: black;}#sk-container-id-1 pre{padding: 0;}#sk-container-id-1 div.sk-toggleable {background-color: white;}#sk-container-id-1 label.sk-toggleable__label {cursor: pointer;display: block;width: 100%;margin-bottom: 0;padding: 0.3em;box-sizing: border-box;text-align: center;}#sk-container-id-1 label.sk-toggleable__label-arrow:before {content: \"▸\";float: left;margin-right: 0.25em;color: #696969;}#sk-container-id-1 label.sk-toggleable__label-arrow:hover:before {color: black;}#sk-container-id-1 div.sk-estimator:hover label.sk-toggleable__label-arrow:before {color: black;}#sk-container-id-1 div.sk-toggleable__content {max-height: 0;max-width: 0;overflow: hidden;text-align: left;background-color: #f0f8ff;}#sk-container-id-1 div.sk-toggleable__content pre {margin: 0.2em;color: black;border-radius: 0.25em;background-color: #f0f8ff;}#sk-container-id-1 input.sk-toggleable__control:checked~div.sk-toggleable__content {max-height: 200px;max-width: 100%;overflow: auto;}#sk-container-id-1 input.sk-toggleable__control:checked~label.sk-toggleable__label-arrow:before {content: \"▾\";}#sk-container-id-1 div.sk-estimator input.sk-toggleable__control:checked~label.sk-toggleable__label {background-color: #d4ebff;}#sk-container-id-1 div.sk-label input.sk-toggleable__control:checked~label.sk-toggleable__label {background-color: #d4ebff;}#sk-container-id-1 input.sk-hidden--visually {border: 0;clip: rect(1px 1px 1px 1px);clip: rect(1px, 1px, 1px, 1px);height: 1px;margin: -1px;overflow: hidden;padding: 0;position: absolute;width: 1px;}#sk-container-id-1 div.sk-estimator {font-family: monospace;background-color: #f0f8ff;border: 1px dotted black;border-radius: 0.25em;box-sizing: border-box;margin-bottom: 0.5em;}#sk-container-id-1 div.sk-estimator:hover {background-color: #d4ebff;}#sk-container-id-1 div.sk-parallel-item::after {content: \"\";width: 100%;border-bottom: 1px solid gray;flex-grow: 1;}#sk-container-id-1 div.sk-label:hover label.sk-toggleable__label {background-color: #d4ebff;}#sk-container-id-1 div.sk-serial::before {content: \"\";position: absolute;border-left: 1px solid gray;box-sizing: border-box;top: 0;bottom: 0;left: 50%;z-index: 0;}#sk-container-id-1 div.sk-serial {display: flex;flex-direction: column;align-items: center;background-color: white;padding-right: 0.2em;padding-left: 0.2em;position: relative;}#sk-container-id-1 div.sk-item {position: relative;z-index: 1;}#sk-container-id-1 div.sk-parallel {display: flex;align-items: stretch;justify-content: center;background-color: white;position: relative;}#sk-container-id-1 div.sk-item::before, #sk-container-id-1 div.sk-parallel-item::before {content: \"\";position: absolute;border-left: 1px solid gray;box-sizing: border-box;top: 0;bottom: 0;left: 50%;z-index: -1;}#sk-container-id-1 div.sk-parallel-item {display: flex;flex-direction: column;z-index: 1;position: relative;background-color: white;}#sk-container-id-1 div.sk-parallel-item:first-child::after {align-self: flex-end;width: 50%;}#sk-container-id-1 div.sk-parallel-item:last-child::after {align-self: flex-start;width: 50%;}#sk-container-id-1 div.sk-parallel-item:only-child::after {width: 0;}#sk-container-id-1 div.sk-dashed-wrapped {border: 1px dashed gray;margin: 0 0.4em 0.5em 0.4em;box-sizing: border-box;padding-bottom: 0.4em;background-color: white;}#sk-container-id-1 div.sk-label label {font-family: monospace;font-weight: bold;display: inline-block;line-height: 1.2em;}#sk-container-id-1 div.sk-label-container {text-align: center;}#sk-container-id-1 div.sk-container {/* jupyter's `normalize.less` sets `[hidden] { display: none; }` but bootstrap.min.css set `[hidden] { display: none !important; }` so we also need the `!important` here to be able to override the default hidden behavior on the sphinx rendered scikit-learn.org. See: https://github.com/scikit-learn/scikit-learn/issues/21755 */display: inline-block !important;position: relative;}#sk-container-id-1 div.sk-text-repr-fallback {display: none;}</style><div id=\"sk-container-id-1\" class=\"sk-top-container\"><div class=\"sk-text-repr-fallback\"><pre>LinearRegression()</pre><b>In a Jupyter environment, please rerun this cell to show the HTML representation or trust the notebook. <br />On GitHub, the HTML representation is unable to render, please try loading this page with nbviewer.org.</b></div><div class=\"sk-container\" hidden><div class=\"sk-item\"><div class=\"sk-estimator sk-toggleable\"><input class=\"sk-toggleable__control sk-hidden--visually\" id=\"sk-estimator-id-1\" type=\"checkbox\" checked><label for=\"sk-estimator-id-1\" class=\"sk-toggleable__label sk-toggleable__label-arrow\">LinearRegression</label><div class=\"sk-toggleable__content\"><pre>LinearRegression()</pre></div></div></div></div></div>"
      ],
      "text/plain": [
       "LinearRegression()"
      ]
     },
     "execution_count": 17,
     "metadata": {},
     "output_type": "execute_result"
    }
   ],
   "source": [
    "lm = LinearRegression()\n",
    "lm.fit(X_diff,y_diff)"
   ]
  },
  {
   "cell_type": "code",
   "execution_count": 25,
   "metadata": {},
   "outputs": [
    {
     "name": "stderr",
     "output_type": "stream",
     "text": [
      "/Users/MorrisHeijke/Desktop/Uni/Master/Thesis Econometrics/thesis_code/functions.py:189: RuntimeWarning: covariance is not positive-semidefinite.\n",
      "  beta.append(np.random.multivariate_normal(multi_norm_mean, multi_norm_cov))\n"
     ]
    }
   ],
   "source": [
    "lambda_init = (X_diff.shape[1]*np.sqrt((np.sum((y_diff - lm.predict(X_diff))**2)) / (X_diff.shape[0] - X_diff.shape[1]))) / np.sum(np.abs(lm.coef_))\n",
    "lambda_ = np.sqrt(2 * X_diff.shape[1] / sum(np.mean(func.gibbs_sampler_lambda(X_diff, y_diff, 500, lambda_init), axis=0)))"
   ]
  },
  {
   "cell_type": "code",
   "execution_count": 26,
   "metadata": {},
   "outputs": [],
   "source": [
    "lambda_list = [lambda_]\n",
    "for i in range(1,120):\n",
    "    lambda_ = np.sqrt(2 * X_diff.shape[1] / sum(np.mean(func.gibbs_sampler_lambda(X_diff, y_diff, 500, lambda_), axis=0)))\n",
    "    lambda_list.append(lambda_)"
   ]
  },
  {
   "cell_type": "code",
   "execution_count": 37,
   "metadata": {},
   "outputs": [
    {
     "data": {
      "image/png": "[encoded data removed]",
      "text/plain": [
       "<Figure size 720x480 with 1 Axes>"
      ]
     },
     "metadata": {},
     "output_type": "display_data"
    }
   ],
   "source": [
    "dict_df = {'iterations': range(0,120), 'λ':lambda_list}\n",
    "df = pd.DataFrame(dict_df)\n",
    "\n",
    "plt.plot('iterations', 'λ', data=df, linewidth=1)\n",
    "plt.xlabel('Number of iterations')\n",
    "plt.ylabel('λ',rotation=0)\n",
    "plt.title('Bayesian LASSO λ estimation')\n",
    "plt.savefig('Empirical_lambda.png')"
   ]
  },
  {
   "cell_type": "code",
   "execution_count": 28,
   "metadata": {},
   "outputs": [
    {
     "data": {
      "text/plain": [
       "74.84484032974787"
      ]
     },
     "execution_count": 28,
     "metadata": {},
     "output_type": "execute_result"
    }
   ],
   "source": [
    "lambda_"
   ]
  },
  {
   "cell_type": "markdown",
   "metadata": {},
   "source": [
    "Get Random Forest hyperparameters"
   ]
  },
  {
   "cell_type": "code",
   "execution_count": 9,
   "metadata": {},
   "outputs": [
    {
     "name": "stdout",
     "output_type": "stream",
     "text": [
      "The best RF hyperparameters are  {'max_depth': 6, 'n_estimators': 150}\n"
     ]
    }
   ],
   "source": [
    "rf_regressor = RandomForestRegressor(random_state=0)\n",
    "\n",
    "param_grid_rf = {'n_estimators': [10, 50, 100, 150, 200, 250, 300],\n",
    "                'max_depth': [1,2,4,6]}\n",
    "\n",
    "search_rf = GridSearchCV(rf_regressor, param_grid_rf, cv=5).fit(X_diff, y_diff)\n",
    "\n",
    "print(\"The best RF hyperparameters are \",search_rf.best_params_)\n",
    "rf_best_params = search_rf.best_params_"
   ]
  },
  {
   "cell_type": "markdown",
   "metadata": {},
   "source": [
    "Get XGBoost hyperparameters"
   ]
  },
  {
   "cell_type": "code",
   "execution_count": 14,
   "metadata": {},
   "outputs": [
    {
     "name": "stdout",
     "output_type": "stream",
     "text": [
      "The best XGB hyperparameters are  {'gamma': 1, 'lambda': 5, 'learning_rate': 0.1, 'max_depth': 2, 'n_estimators': 750}\n"
     ]
    }
   ],
   "source": [
    "xgb_regressor = xgb.XGBRegressor(eval_metric='rmsle')\n",
    "\n",
    "param_grid_xgb = {\"max_depth\":    [1, 2, 4, 6],\n",
    "              \"n_estimators\": [10, 50, 100, 250, 500, 750],\n",
    "              \"learning_rate\": [0.1],\n",
    "              \"gamma\": [0.1, 1, 5, 10],\n",
    "              \"lambda\": [0.1, 1, 5, 10]}\n",
    "\n",
    "search_xgb = GridSearchCV(xgb_regressor, param_grid_xgb, cv=5).fit(X_diff, y_diff)\n",
    "\n",
    "print(\"The best XGB hyperparameters are \",search_xgb.best_params_)\n",
    "xgb_best_params = search_xgb.best_params_"
   ]
  },
  {
   "cell_type": "markdown",
   "metadata": {},
   "source": [
    "Walk-Forward Validation"
   ]
  },
  {
   "cell_type": "code",
   "execution_count": 49,
   "metadata": {},
   "outputs": [
    {
     "name": "stderr",
     "output_type": "stream",
     "text": [
      "/Users/MorrisHeijke/Desktop/Uni/Master/Thesis Econometrics/thesis_code/.conda/lib/python3.8/site-packages/statsmodels/tsa/base/tsa_model.py:473: ValueWarning: A date index has been provided, but it has no associated frequency information and so will be ignored when e.g. forecasting.\n",
      "  self._init_dates(dates, freq)\n",
      "/Users/MorrisHeijke/Desktop/Uni/Master/Thesis Econometrics/thesis_code/.conda/lib/python3.8/site-packages/statsmodels/tsa/base/tsa_model.py:473: ValueWarning: A date index has been provided, but it has no associated frequency information and so will be ignored when e.g. forecasting.\n",
      "  self._init_dates(dates, freq)\n",
      "/Users/MorrisHeijke/Desktop/Uni/Master/Thesis Econometrics/thesis_code/.conda/lib/python3.8/site-packages/statsmodels/tsa/base/tsa_model.py:473: ValueWarning: A date index has been provided, but it has no associated frequency information and so will be ignored when e.g. forecasting.\n",
      "  self._init_dates(dates, freq)\n"
     ]
    }
   ],
   "source": [
    "model_dict = dict()\n",
    "model_dict['mean_model'] = func.mean_predictor()\n",
    "model_dict['naive_model'] = func.naive_predictor()\n",
    "model_dict['mlr_model'] = func.mlr_predictor()\n",
    "model_dict['mlr_sig_model'] = func.mlr_predictor(linear_significant)\n",
    "model_dict['lasso_model'] = func.lasso_predictor()\n",
    "model_dict['bayes_lasso_model'] = func.bayes_lasso_predictor(lambda_)\n",
    "model_dict['ridge_model'] = func.ridge_predictor()\n",
    "model_dict['bayes_ridge_model'] = func.bayes_ridge_predictor()\n",
    "model_dict['elnet_model'] = func.elasticnet_predictor()\n",
    "model_dict['xgb_model'] = func.xgboost_predictor(xgb_best_params)\n",
    "model_dict['rf_model'] = func.rf_predictor()\n",
    "model_dict['arima_model'] = func.arima_predictor(y_diff, 2,0,1)\n",
    "model_dict['var_model'] = func.VAR_predictor([\"OILPRICEx\",\"UNRATE\", \"FEDFUNDS\"])"
   ]
  },
  {
   "cell_type": "code",
   "execution_count": 50,
   "metadata": {},
   "outputs": [
    {
     "name": "stderr",
     "output_type": "stream",
     "text": [
      "/Users/MorrisHeijke/Desktop/Uni/Master/Thesis Econometrics/thesis_code/.conda/lib/python3.8/site-packages/sklearn/linear_model/_coordinate_descent.py:628: ConvergenceWarning: Objective did not converge. You might want to increase the number of iterations, check the scale of the features or consider increasing regularisation. Duality gap: 2.680e+00, tolerance: 9.809e-01\n",
      "  model = cd_fast.enet_coordinate_descent(\n",
      "/Users/MorrisHeijke/Desktop/Uni/Master/Thesis Econometrics/thesis_code/.conda/lib/python3.8/site-packages/sklearn/linear_model/_coordinate_descent.py:628: ConvergenceWarning: Objective did not converge. You might want to increase the number of iterations, check the scale of the features or consider increasing regularisation. Duality gap: 6.100e+01, tolerance: 9.809e-01\n",
      "  model = cd_fast.enet_coordinate_descent(\n",
      "/Users/MorrisHeijke/Desktop/Uni/Master/Thesis Econometrics/thesis_code/.conda/lib/python3.8/site-packages/statsmodels/tsa/statespace/sarimax.py:966: UserWarning: Non-stationary starting autoregressive parameters found. Using zeros as starting parameters.\n",
      "  warn('Non-stationary starting autoregressive parameters'\n",
      "/Users/MorrisHeijke/Desktop/Uni/Master/Thesis Econometrics/thesis_code/.conda/lib/python3.8/site-packages/statsmodels/tsa/base/tsa_model.py:836: ValueWarning: No supported index is available. Prediction results will be given with an integer index beginning at `start`.\n",
      "  return get_prediction_index(\n",
      "/Users/MorrisHeijke/Desktop/Uni/Master/Thesis Econometrics/thesis_code/.conda/lib/python3.8/site-packages/statsmodels/tsa/base/tsa_model.py:836: FutureWarning: No supported index is available. In the next version, calling this method in a model without a supported index will result in an exception.\n",
      "  return get_prediction_index(\n",
      "/Users/MorrisHeijke/Desktop/Uni/Master/Thesis Econometrics/thesis_code/.conda/lib/python3.8/site-packages/statsmodels/tsa/base/tsa_model.py:836: ValueWarning: No supported index is available. Prediction results will be given with an integer index beginning at `start`.\n",
      "  return get_prediction_index(\n",
      "/Users/MorrisHeijke/Desktop/Uni/Master/Thesis Econometrics/thesis_code/functions.py:478: SettingWithCopyWarning: \n",
      "A value is trying to be set on a copy of a slice from a DataFrame.\n",
      "Try using .loc[row_indexer,col_indexer] = value instead\n",
      "\n",
      "See the caveats in the documentation: https://pandas.pydata.org/pandas-docs/stable/user_guide/indexing.html#returning-a-view-versus-a-copy\n",
      "  y_eqs['inflation'] = y\n",
      "/Users/MorrisHeijke/Desktop/Uni/Master/Thesis Econometrics/thesis_code/.conda/lib/python3.8/site-packages/statsmodels/tsa/base/tsa_model.py:473: ValueWarning: No frequency information was provided, so inferred frequency MS will be used.\n",
      "  self._init_dates(dates, freq)\n",
      "/Users/MorrisHeijke/Desktop/Uni/Master/Thesis Econometrics/thesis_code/.conda/lib/python3.8/site-packages/sklearn/linear_model/_coordinate_descent.py:628: ConvergenceWarning: Objective did not converge. You might want to increase the number of iterations, check the scale of the features or consider increasing regularisation. Duality gap: 2.921e+00, tolerance: 9.886e-01\n",
      "  model = cd_fast.enet_coordinate_descent(\n",
      "/Users/MorrisHeijke/Desktop/Uni/Master/Thesis Econometrics/thesis_code/.conda/lib/python3.8/site-packages/sklearn/linear_model/_coordinate_descent.py:628: ConvergenceWarning: Objective did not converge. You might want to increase the number of iterations, check the scale of the features or consider increasing regularisation. Duality gap: 4.456e+01, tolerance: 9.886e-01\n",
      "  model = cd_fast.enet_coordinate_descent(\n",
      "/Users/MorrisHeijke/Desktop/Uni/Master/Thesis Econometrics/thesis_code/.conda/lib/python3.8/site-packages/statsmodels/tsa/statespace/sarimax.py:966: UserWarning: Non-stationary starting autoregressive parameters found. Using zeros as starting parameters.\n",
      "  warn('Non-stationary starting autoregressive parameters'\n",
      "/Users/MorrisHeijke/Desktop/Uni/Master/Thesis Econometrics/thesis_code/.conda/lib/python3.8/site-packages/statsmodels/tsa/base/tsa_model.py:836: ValueWarning: No supported index is available. Prediction results will be given with an integer index beginning at `start`.\n",
      "  return get_prediction_index(\n",
      "/Users/MorrisHeijke/Desktop/Uni/Master/Thesis Econometrics/thesis_code/.conda/lib/python3.8/site-packages/statsmodels/tsa/base/tsa_model.py:836: FutureWarning: No supported index is available. In the next version, calling this method in a model without a supported index will result in an exception.\n",
      "  return get_prediction_index(\n",
      "/Users/MorrisHeijke/Desktop/Uni/Master/Thesis Econometrics/thesis_code/.conda/lib/python3.8/site-packages/statsmodels/tsa/base/tsa_model.py:836: ValueWarning: No supported index is available. Prediction results will be given with an integer index beginning at `start`.\n",
      "  return get_prediction_index(\n",
      "/Users/MorrisHeijke/Desktop/Uni/Master/Thesis Econometrics/thesis_code/functions.py:478: SettingWithCopyWarning: \n",
      "A value is trying to be set on a copy of a slice from a DataFrame.\n",
      "Try using .loc[row_indexer,col_indexer] = value instead\n",
      "\n",
      "See the caveats in the documentation: https://pandas.pydata.org/pandas-docs/stable/user_guide/indexing.html#returning-a-view-versus-a-copy\n",
      "  y_eqs['inflation'] = y\n",
      "/Users/MorrisHeijke/Desktop/Uni/Master/Thesis Econometrics/thesis_code/.conda/lib/python3.8/site-packages/statsmodels/tsa/base/tsa_model.py:473: ValueWarning: No frequency information was provided, so inferred frequency MS will be used.\n",
      "  self._init_dates(dates, freq)\n",
      "/Users/MorrisHeijke/Desktop/Uni/Master/Thesis Econometrics/thesis_code/.conda/lib/python3.8/site-packages/sklearn/linear_model/_coordinate_descent.py:628: ConvergenceWarning: Objective did not converge. You might want to increase the number of iterations, check the scale of the features or consider increasing regularisation. Duality gap: 4.535e+00, tolerance: 9.937e-01\n",
      "  model = cd_fast.enet_coordinate_descent(\n",
      "/Users/MorrisHeijke/Desktop/Uni/Master/Thesis Econometrics/thesis_code/.conda/lib/python3.8/site-packages/sklearn/linear_model/_coordinate_descent.py:628: ConvergenceWarning: Objective did not converge. You might want to increase the number of iterations, check the scale of the features or consider increasing regularisation. Duality gap: 4.195e+01, tolerance: 9.937e-01\n",
      "  model = cd_fast.enet_coordinate_descent(\n",
      "/Users/MorrisHeijke/Desktop/Uni/Master/Thesis Econometrics/thesis_code/.conda/lib/python3.8/site-packages/statsmodels/tsa/statespace/sarimax.py:966: UserWarning: Non-stationary starting autoregressive parameters found. Using zeros as starting parameters.\n",
      "  warn('Non-stationary starting autoregressive parameters'\n",
      "/Users/MorrisHeijke/Desktop/Uni/Master/Thesis Econometrics/thesis_code/.conda/lib/python3.8/site-packages/statsmodels/tsa/base/tsa_model.py:836: ValueWarning: No supported index is available. Prediction results will be given with an integer index beginning at `start`.\n",
      "  return get_prediction_index(\n",
      "/Users/MorrisHeijke/Desktop/Uni/Master/Thesis Econometrics/thesis_code/.conda/lib/python3.8/site-packages/statsmodels/tsa/base/tsa_model.py:836: FutureWarning: No supported index is available. In the next version, calling this method in a model without a supported index will result in an exception.\n",
      "  return get_prediction_index(\n",
      "/Users/MorrisHeijke/Desktop/Uni/Master/Thesis Econometrics/thesis_code/.conda/lib/python3.8/site-packages/statsmodels/tsa/base/tsa_model.py:836: ValueWarning: No supported index is available. Prediction results will be given with an integer index beginning at `start`.\n",
      "  return get_prediction_index(\n",
      "/Users/MorrisHeijke/Desktop/Uni/Master/Thesis Econometrics/thesis_code/functions.py:478: SettingWithCopyWarning: \n",
      "A value is trying to be set on a copy of a slice from a DataFrame.\n",
      "Try using .loc[row_indexer,col_indexer] = value instead\n",
      "\n",
      "See the caveats in the documentation: https://pandas.pydata.org/pandas-docs/stable/user_guide/indexing.html#returning-a-view-versus-a-copy\n",
      "  y_eqs['inflation'] = y\n",
      "/Users/MorrisHeijke/Desktop/Uni/Master/Thesis Econometrics/thesis_code/.conda/lib/python3.8/site-packages/statsmodels/tsa/base/tsa_model.py:473: ValueWarning: No frequency information was provided, so inferred frequency MS will be used.\n",
      "  self._init_dates(dates, freq)\n",
      "/Users/MorrisHeijke/Desktop/Uni/Master/Thesis Econometrics/thesis_code/.conda/lib/python3.8/site-packages/sklearn/linear_model/_coordinate_descent.py:628: ConvergenceWarning: Objective did not converge. You might want to increase the number of iterations, check the scale of the features or consider increasing regularisation. Duality gap: 4.405e+00, tolerance: 1.001e+00\n",
      "  model = cd_fast.enet_coordinate_descent(\n",
      "/Users/MorrisHeijke/Desktop/Uni/Master/Thesis Econometrics/thesis_code/.conda/lib/python3.8/site-packages/sklearn/linear_model/_coordinate_descent.py:628: ConvergenceWarning: Objective did not converge. You might want to increase the number of iterations, check the scale of the features or consider increasing regularisation. Duality gap: 3.016e+01, tolerance: 1.001e+00\n",
      "  model = cd_fast.enet_coordinate_descent(\n",
      "/Users/MorrisHeijke/Desktop/Uni/Master/Thesis Econometrics/thesis_code/.conda/lib/python3.8/site-packages/statsmodels/tsa/statespace/sarimax.py:966: UserWarning: Non-stationary starting autoregressive parameters found. Using zeros as starting parameters.\n",
      "  warn('Non-stationary starting autoregressive parameters'\n",
      "/Users/MorrisHeijke/Desktop/Uni/Master/Thesis Econometrics/thesis_code/.conda/lib/python3.8/site-packages/statsmodels/tsa/base/tsa_model.py:836: ValueWarning: No supported index is available. Prediction results will be given with an integer index beginning at `start`.\n",
      "  return get_prediction_index(\n",
      "/Users/MorrisHeijke/Desktop/Uni/Master/Thesis Econometrics/thesis_code/.conda/lib/python3.8/site-packages/statsmodels/tsa/base/tsa_model.py:836: FutureWarning: No supported index is available. In the next version, calling this method in a model without a supported index will result in an exception.\n",
      "  return get_prediction_index(\n",
      "/Users/MorrisHeijke/Desktop/Uni/Master/Thesis Econometrics/thesis_code/.conda/lib/python3.8/site-packages/statsmodels/tsa/base/tsa_model.py:836: ValueWarning: No supported index is available. Prediction results will be given with an integer index beginning at `start`.\n",
      "  return get_prediction_index(\n",
      "/Users/MorrisHeijke/Desktop/Uni/Master/Thesis Econometrics/thesis_code/functions.py:478: SettingWithCopyWarning: \n",
      "A value is trying to be set on a copy of a slice from a DataFrame.\n",
      "Try using .loc[row_indexer,col_indexer] = value instead\n",
      "\n",
      "See the caveats in the documentation: https://pandas.pydata.org/pandas-docs/stable/user_guide/indexing.html#returning-a-view-versus-a-copy\n",
      "  y_eqs['inflation'] = y\n",
      "/Users/MorrisHeijke/Desktop/Uni/Master/Thesis Econometrics/thesis_code/.conda/lib/python3.8/site-packages/statsmodels/tsa/base/tsa_model.py:473: ValueWarning: No frequency information was provided, so inferred frequency MS will be used.\n",
      "  self._init_dates(dates, freq)\n",
      "/Users/MorrisHeijke/Desktop/Uni/Master/Thesis Econometrics/thesis_code/.conda/lib/python3.8/site-packages/sklearn/linear_model/_coordinate_descent.py:628: ConvergenceWarning: Objective did not converge. You might want to increase the number of iterations, check the scale of the features or consider increasing regularisation. Duality gap: 2.844e+01, tolerance: 1.015e+00\n",
      "  model = cd_fast.enet_coordinate_descent(\n",
      "/Users/MorrisHeijke/Desktop/Uni/Master/Thesis Econometrics/thesis_code/.conda/lib/python3.8/site-packages/statsmodels/tsa/statespace/sarimax.py:966: UserWarning: Non-stationary starting autoregressive parameters found. Using zeros as starting parameters.\n",
      "  warn('Non-stationary starting autoregressive parameters'\n",
      "/Users/MorrisHeijke/Desktop/Uni/Master/Thesis Econometrics/thesis_code/.conda/lib/python3.8/site-packages/statsmodels/tsa/base/tsa_model.py:836: ValueWarning: No supported index is available. Prediction results will be given with an integer index beginning at `start`.\n",
      "  return get_prediction_index(\n",
      "/Users/MorrisHeijke/Desktop/Uni/Master/Thesis Econometrics/thesis_code/.conda/lib/python3.8/site-packages/statsmodels/tsa/base/tsa_model.py:836: FutureWarning: No supported index is available. In the next version, calling this method in a model without a supported index will result in an exception.\n",
      "  return get_prediction_index(\n",
      "/Users/MorrisHeijke/Desktop/Uni/Master/Thesis Econometrics/thesis_code/.conda/lib/python3.8/site-packages/statsmodels/tsa/base/tsa_model.py:836: ValueWarning: No supported index is available. Prediction results will be given with an integer index beginning at `start`.\n",
      "  return get_prediction_index(\n",
      "/Users/MorrisHeijke/Desktop/Uni/Master/Thesis Econometrics/thesis_code/functions.py:478: SettingWithCopyWarning: \n",
      "A value is trying to be set on a copy of a slice from a DataFrame.\n",
      "Try using .loc[row_indexer,col_indexer] = value instead\n",
      "\n",
      "See the caveats in the documentation: https://pandas.pydata.org/pandas-docs/stable/user_guide/indexing.html#returning-a-view-versus-a-copy\n",
      "  y_eqs['inflation'] = y\n",
      "/Users/MorrisHeijke/Desktop/Uni/Master/Thesis Econometrics/thesis_code/.conda/lib/python3.8/site-packages/statsmodels/tsa/base/tsa_model.py:473: ValueWarning: A date index has been provided, but it has no associated frequency information and so will be ignored when e.g. forecasting.\n",
      "  self._init_dates(dates, freq)\n",
      "/Users/MorrisHeijke/Desktop/Uni/Master/Thesis Econometrics/thesis_code/.conda/lib/python3.8/site-packages/sklearn/linear_model/_coordinate_descent.py:628: ConvergenceWarning: Objective did not converge. You might want to increase the number of iterations, check the scale of the features or consider increasing regularisation. Duality gap: 9.102e+00, tolerance: 1.025e+00\n",
      "  model = cd_fast.enet_coordinate_descent(\n",
      "/Users/MorrisHeijke/Desktop/Uni/Master/Thesis Econometrics/thesis_code/.conda/lib/python3.8/site-packages/sklearn/linear_model/_coordinate_descent.py:628: ConvergenceWarning: Objective did not converge. You might want to increase the number of iterations, check the scale of the features or consider increasing regularisation. Duality gap: 3.048e+02, tolerance: 1.025e+00\n",
      "  model = cd_fast.enet_coordinate_descent(\n",
      "/Users/MorrisHeijke/Desktop/Uni/Master/Thesis Econometrics/thesis_code/.conda/lib/python3.8/site-packages/statsmodels/tsa/statespace/sarimax.py:966: UserWarning: Non-stationary starting autoregressive parameters found. Using zeros as starting parameters.\n",
      "  warn('Non-stationary starting autoregressive parameters'\n",
      "/Users/MorrisHeijke/Desktop/Uni/Master/Thesis Econometrics/thesis_code/.conda/lib/python3.8/site-packages/statsmodels/tsa/base/tsa_model.py:836: ValueWarning: No supported index is available. Prediction results will be given with an integer index beginning at `start`.\n",
      "  return get_prediction_index(\n",
      "/Users/MorrisHeijke/Desktop/Uni/Master/Thesis Econometrics/thesis_code/.conda/lib/python3.8/site-packages/statsmodels/tsa/base/tsa_model.py:836: FutureWarning: No supported index is available. In the next version, calling this method in a model without a supported index will result in an exception.\n",
      "  return get_prediction_index(\n",
      "/Users/MorrisHeijke/Desktop/Uni/Master/Thesis Econometrics/thesis_code/.conda/lib/python3.8/site-packages/statsmodels/tsa/base/tsa_model.py:836: ValueWarning: No supported index is available. Prediction results will be given with an integer index beginning at `start`.\n",
      "  return get_prediction_index(\n",
      "/Users/MorrisHeijke/Desktop/Uni/Master/Thesis Econometrics/thesis_code/functions.py:478: SettingWithCopyWarning: \n",
      "A value is trying to be set on a copy of a slice from a DataFrame.\n",
      "Try using .loc[row_indexer,col_indexer] = value instead\n",
      "\n",
      "See the caveats in the documentation: https://pandas.pydata.org/pandas-docs/stable/user_guide/indexing.html#returning-a-view-versus-a-copy\n",
      "  y_eqs['inflation'] = y\n",
      "/Users/MorrisHeijke/Desktop/Uni/Master/Thesis Econometrics/thesis_code/.conda/lib/python3.8/site-packages/statsmodels/tsa/base/tsa_model.py:473: ValueWarning: A date index has been provided, but it has no associated frequency information and so will be ignored when e.g. forecasting.\n",
      "  self._init_dates(dates, freq)\n"
     ]
    },
    {
     "data": {
      "text/html": [
       "<div>\n",
       "<style scoped>\n",
       "    .dataframe tbody tr th:only-of-type {\n",
       "        vertical-align: middle;\n",
       "    }\n",
       "\n",
       "    .dataframe tbody tr th {\n",
       "        vertical-align: top;\n",
       "    }\n",
       "\n",
       "    .dataframe thead th {\n",
       "        text-align: right;\n",
       "    }\n",
       "</style>\n",
       "<table border=\"1\" class=\"dataframe\">\n",
       "  <thead>\n",
       "    <tr style=\"text-align: right;\">\n",
       "      <th></th>\n",
       "      <th>MSE Train</th>\n",
       "      <th>MSE Validation</th>\n",
       "      <th>MAE Train</th>\n",
       "      <th>MAE Validation</th>\n",
       "      <th>R2 Train</th>\n",
       "      <th>R2 Validation</th>\n",
       "    </tr>\n",
       "  </thead>\n",
       "  <tbody>\n",
       "    <tr>\n",
       "      <th>mean</th>\n",
       "      <td>14.200</td>\n",
       "      <td>11.680</td>\n",
       "      <td>2.664</td>\n",
       "      <td>2.629</td>\n",
       "      <td>0.000</td>\n",
       "      <td>-1.104</td>\n",
       "    </tr>\n",
       "    <tr>\n",
       "      <th>naive</th>\n",
       "      <td>0.000</td>\n",
       "      <td>15.523</td>\n",
       "      <td>0.000</td>\n",
       "      <td>3.057</td>\n",
       "      <td>1.000</td>\n",
       "      <td>-2.071</td>\n",
       "    </tr>\n",
       "    <tr>\n",
       "      <th>mlr</th>\n",
       "      <td>1.528</td>\n",
       "      <td>63.945</td>\n",
       "      <td>0.947</td>\n",
       "      <td>4.376</td>\n",
       "      <td>0.892</td>\n",
       "      <td>-8.810</td>\n",
       "    </tr>\n",
       "    <tr>\n",
       "      <th>mlr sig</th>\n",
       "      <td>7.786</td>\n",
       "      <td>8.225</td>\n",
       "      <td>2.096</td>\n",
       "      <td>2.042</td>\n",
       "      <td>0.452</td>\n",
       "      <td>-0.353</td>\n",
       "    </tr>\n",
       "    <tr>\n",
       "      <th>lasso</th>\n",
       "      <td>2.479</td>\n",
       "      <td>83.756</td>\n",
       "      <td>1.180</td>\n",
       "      <td>4.631</td>\n",
       "      <td>0.825</td>\n",
       "      <td>-11.498</td>\n",
       "    </tr>\n",
       "    <tr>\n",
       "      <th>bayes lasso</th>\n",
       "      <td>2.552</td>\n",
       "      <td>89.934</td>\n",
       "      <td>1.241</td>\n",
       "      <td>5.516</td>\n",
       "      <td>0.820</td>\n",
       "      <td>-12.829</td>\n",
       "    </tr>\n",
       "    <tr>\n",
       "      <th>ridge</th>\n",
       "      <td>1.553</td>\n",
       "      <td>66.446</td>\n",
       "      <td>0.955</td>\n",
       "      <td>4.591</td>\n",
       "      <td>0.890</td>\n",
       "      <td>-9.150</td>\n",
       "    </tr>\n",
       "    <tr>\n",
       "      <th>bayes ridge</th>\n",
       "      <td>1.939</td>\n",
       "      <td>87.557</td>\n",
       "      <td>1.057</td>\n",
       "      <td>5.068</td>\n",
       "      <td>0.863</td>\n",
       "      <td>-12.438</td>\n",
       "    </tr>\n",
       "    <tr>\n",
       "      <th>elnet</th>\n",
       "      <td>2.271</td>\n",
       "      <td>92.344</td>\n",
       "      <td>1.133</td>\n",
       "      <td>5.060</td>\n",
       "      <td>0.840</td>\n",
       "      <td>-12.952</td>\n",
       "    </tr>\n",
       "    <tr>\n",
       "      <th>xgb</th>\n",
       "      <td>0.072</td>\n",
       "      <td>6.502</td>\n",
       "      <td>0.207</td>\n",
       "      <td>1.744</td>\n",
       "      <td>0.995</td>\n",
       "      <td>-0.169</td>\n",
       "    </tr>\n",
       "    <tr>\n",
       "      <th>rf</th>\n",
       "      <td>0.625</td>\n",
       "      <td>10.032</td>\n",
       "      <td>0.558</td>\n",
       "      <td>2.136</td>\n",
       "      <td>0.956</td>\n",
       "      <td>-0.554</td>\n",
       "    </tr>\n",
       "    <tr>\n",
       "      <th>arima</th>\n",
       "      <td>16.107</td>\n",
       "      <td>32.479</td>\n",
       "      <td>2.949</td>\n",
       "      <td>5.114</td>\n",
       "      <td>-0.134</td>\n",
       "      <td>-7.521</td>\n",
       "    </tr>\n",
       "    <tr>\n",
       "      <th>var</th>\n",
       "      <td>13.926</td>\n",
       "      <td>13.775</td>\n",
       "      <td>2.590</td>\n",
       "      <td>2.605</td>\n",
       "      <td>0.019</td>\n",
       "      <td>-1.170</td>\n",
       "    </tr>\n",
       "  </tbody>\n",
       "</table>\n",
       "</div>"
      ],
      "text/plain": [
       "             MSE Train  MSE Validation  MAE Train  MAE Validation  R2 Train  \\\n",
       "mean            14.200          11.680      2.664           2.629     0.000   \n",
       "naive            0.000          15.523      0.000           3.057     1.000   \n",
       "mlr              1.528          63.945      0.947           4.376     0.892   \n",
       "mlr sig          7.786           8.225      2.096           2.042     0.452   \n",
       "lasso            2.479          83.756      1.180           4.631     0.825   \n",
       "bayes lasso      2.552          89.934      1.241           5.516     0.820   \n",
       "ridge            1.553          66.446      0.955           4.591     0.890   \n",
       "bayes ridge      1.939          87.557      1.057           5.068     0.863   \n",
       "elnet            2.271          92.344      1.133           5.060     0.840   \n",
       "xgb              0.072           6.502      0.207           1.744     0.995   \n",
       "rf               0.625          10.032      0.558           2.136     0.956   \n",
       "arima           16.107          32.479      2.949           5.114    -0.134   \n",
       "var             13.926          13.775      2.590           2.605     0.019   \n",
       "\n",
       "             R2 Validation  \n",
       "mean                -1.104  \n",
       "naive               -2.071  \n",
       "mlr                 -8.810  \n",
       "mlr sig             -0.353  \n",
       "lasso              -11.498  \n",
       "bayes lasso        -12.829  \n",
       "ridge               -9.150  \n",
       "bayes ridge        -12.438  \n",
       "elnet              -12.952  \n",
       "xgb                 -0.169  \n",
       "rf                  -0.554  \n",
       "arima               -7.521  \n",
       "var                 -1.170  "
      ]
     },
     "execution_count": 50,
     "metadata": {},
     "output_type": "execute_result"
    }
   ],
   "source": [
    "results = func.ts_cross_validation(model_dict, X_diff, y_diff, 6, 12)\n",
    "result_frame = pd.DataFrame({\n",
    "                        'mean': results['mean_model'],\n",
    "                        'naive': results['naive_model'],\n",
    "                        'mlr': results['mlr_model'],\n",
    "                        'mlr sig': results['mlr_sig_model'],\n",
    "                        'lasso': results['lasso_model'],\n",
    "                        'bayes lasso': results['bayes_lasso_model'],\n",
    "                        'ridge': results['ridge_model'],\n",
    "                        'bayes ridge': results['bayes_ridge_model'],\n",
    "                        'elnet': results['elnet_model'],\n",
    "                        'xgb': results['xgb_model'],\n",
    "                        'rf': results['rf_model'],\n",
    "                        'arima': results['arima_model'],\n",
    "                        'var': results['var_model']\n",
    "                        }, index=['MSE Train', 'MSE Validation', 'MAE Train', 'MAE Validation', 'R2 Train', 'R2 Validation'])\n",
    "\n",
    "round(result_frame.T, 3)"
   ]
  },
  {
   "cell_type": "markdown",
   "metadata": {},
   "source": [
    "Out-of-sample forecast"
   ]
  },
  {
   "cell_type": "code",
   "execution_count": 51,
   "metadata": {},
   "outputs": [
    {
     "name": "stderr",
     "output_type": "stream",
     "text": [
      "/Users/MorrisHeijke/Desktop/Uni/Master/Thesis Econometrics/thesis_code/.conda/lib/python3.8/site-packages/sklearn/linear_model/_coordinate_descent.py:628: ConvergenceWarning: Objective did not converge. You might want to increase the number of iterations, check the scale of the features or consider increasing regularisation. Duality gap: 8.093e+02, tolerance: 1.064e+00\n",
      "  model = cd_fast.enet_coordinate_descent(\n",
      "/Users/MorrisHeijke/Desktop/Uni/Master/Thesis Econometrics/thesis_code/.conda/lib/python3.8/site-packages/sklearn/linear_model/_coordinate_descent.py:628: ConvergenceWarning: Objective did not converge. You might want to increase the number of iterations, check the scale of the features or consider increasing regularisation. Duality gap: 1.022e+03, tolerance: 1.064e+00\n",
      "  model = cd_fast.enet_coordinate_descent(\n",
      "/Users/MorrisHeijke/Desktop/Uni/Master/Thesis Econometrics/thesis_code/.conda/lib/python3.8/site-packages/statsmodels/tsa/statespace/sarimax.py:966: UserWarning: Non-stationary starting autoregressive parameters found. Using zeros as starting parameters.\n",
      "  warn('Non-stationary starting autoregressive parameters'\n",
      "/Users/MorrisHeijke/Desktop/Uni/Master/Thesis Econometrics/thesis_code/.conda/lib/python3.8/site-packages/statsmodels/tsa/base/tsa_model.py:836: ValueWarning: No supported index is available. Prediction results will be given with an integer index beginning at `start`.\n",
      "  return get_prediction_index(\n",
      "/Users/MorrisHeijke/Desktop/Uni/Master/Thesis Econometrics/thesis_code/.conda/lib/python3.8/site-packages/statsmodels/tsa/base/tsa_model.py:836: FutureWarning: No supported index is available. In the next version, calling this method in a model without a supported index will result in an exception.\n",
      "  return get_prediction_index(\n",
      "/Users/MorrisHeijke/Desktop/Uni/Master/Thesis Econometrics/thesis_code/functions.py:478: SettingWithCopyWarning: \n",
      "A value is trying to be set on a copy of a slice from a DataFrame.\n",
      "Try using .loc[row_indexer,col_indexer] = value instead\n",
      "\n",
      "See the caveats in the documentation: https://pandas.pydata.org/pandas-docs/stable/user_guide/indexing.html#returning-a-view-versus-a-copy\n",
      "  y_eqs['inflation'] = y\n",
      "/Users/MorrisHeijke/Desktop/Uni/Master/Thesis Econometrics/thesis_code/.conda/lib/python3.8/site-packages/statsmodels/tsa/base/tsa_model.py:473: ValueWarning: A date index has been provided, but it has no associated frequency information and so will be ignored when e.g. forecasting.\n",
      "  self._init_dates(dates, freq)\n"
     ]
    },
    {
     "data": {
      "text/html": [
       "<div>\n",
       "<style scoped>\n",
       "    .dataframe tbody tr th:only-of-type {\n",
       "        vertical-align: middle;\n",
       "    }\n",
       "\n",
       "    .dataframe tbody tr th {\n",
       "        vertical-align: top;\n",
       "    }\n",
       "\n",
       "    .dataframe thead th {\n",
       "        text-align: right;\n",
       "    }\n",
       "</style>\n",
       "<table border=\"1\" class=\"dataframe\">\n",
       "  <thead>\n",
       "    <tr style=\"text-align: right;\">\n",
       "      <th></th>\n",
       "      <th>MSE</th>\n",
       "      <th>MAE</th>\n",
       "      <th>R2</th>\n",
       "    </tr>\n",
       "  </thead>\n",
       "  <tbody>\n",
       "    <tr>\n",
       "      <th>mean</th>\n",
       "      <td>12.561</td>\n",
       "      <td>2.536</td>\n",
       "      <td>-0.003</td>\n",
       "    </tr>\n",
       "    <tr>\n",
       "      <th>naive</th>\n",
       "      <td>44.321</td>\n",
       "      <td>5.453</td>\n",
       "      <td>-2.538</td>\n",
       "    </tr>\n",
       "    <tr>\n",
       "      <th>mlr</th>\n",
       "      <td>13.138</td>\n",
       "      <td>2.517</td>\n",
       "      <td>-0.049</td>\n",
       "    </tr>\n",
       "    <tr>\n",
       "      <th>mlr sig</th>\n",
       "      <td>7.407</td>\n",
       "      <td>1.924</td>\n",
       "      <td>0.409</td>\n",
       "    </tr>\n",
       "    <tr>\n",
       "      <th>lasso</th>\n",
       "      <td>6.129</td>\n",
       "      <td>2.028</td>\n",
       "      <td>0.511</td>\n",
       "    </tr>\n",
       "    <tr>\n",
       "      <th>bayes lasso</th>\n",
       "      <td>9.416</td>\n",
       "      <td>2.490</td>\n",
       "      <td>0.248</td>\n",
       "    </tr>\n",
       "    <tr>\n",
       "      <th>ridge</th>\n",
       "      <td>10.797</td>\n",
       "      <td>2.323</td>\n",
       "      <td>0.138</td>\n",
       "    </tr>\n",
       "    <tr>\n",
       "      <th>bayes ridge</th>\n",
       "      <td>7.012</td>\n",
       "      <td>2.001</td>\n",
       "      <td>0.440</td>\n",
       "    </tr>\n",
       "    <tr>\n",
       "      <th>elnet</th>\n",
       "      <td>6.479</td>\n",
       "      <td>2.096</td>\n",
       "      <td>0.483</td>\n",
       "    </tr>\n",
       "    <tr>\n",
       "      <th>xgb</th>\n",
       "      <td>5.236</td>\n",
       "      <td>1.718</td>\n",
       "      <td>0.582</td>\n",
       "    </tr>\n",
       "    <tr>\n",
       "      <th>rf</th>\n",
       "      <td>14.798</td>\n",
       "      <td>3.312</td>\n",
       "      <td>-0.181</td>\n",
       "    </tr>\n",
       "    <tr>\n",
       "      <th>arima</th>\n",
       "      <td>26.216</td>\n",
       "      <td>4.689</td>\n",
       "      <td>-1.093</td>\n",
       "    </tr>\n",
       "    <tr>\n",
       "      <th>var</th>\n",
       "      <td>9.747</td>\n",
       "      <td>2.448</td>\n",
       "      <td>0.222</td>\n",
       "    </tr>\n",
       "  </tbody>\n",
       "</table>\n",
       "</div>"
      ],
      "text/plain": [
       "                MSE    MAE     R2\n",
       "mean         12.561  2.536 -0.003\n",
       "naive        44.321  5.453 -2.538\n",
       "mlr          13.138  2.517 -0.049\n",
       "mlr sig       7.407  1.924  0.409\n",
       "lasso         6.129  2.028  0.511\n",
       "bayes lasso   9.416  2.490  0.248\n",
       "ridge        10.797  2.323  0.138\n",
       "bayes ridge   7.012  2.001  0.440\n",
       "elnet         6.479  2.096  0.483\n",
       "xgb           5.236  1.718  0.582\n",
       "rf           14.798  3.312 -0.181\n",
       "arima        26.216  4.689 -1.093\n",
       "var           9.747  2.448  0.222"
      ]
     },
     "execution_count": 51,
     "metadata": {},
     "output_type": "execute_result"
    }
   ],
   "source": [
    "out_of_sample_results, y_pred_dict = func.out_of_sample_forecast(model_dict, diff_diff_df, split_date)\n",
    "out_of_sample_result_frame = pd.DataFrame({\n",
    "                        'mean': out_of_sample_results['mean_model'],\n",
    "                        'naive': out_of_sample_results['naive_model'],\n",
    "                        'mlr': out_of_sample_results['mlr_model'],\n",
    "                        'mlr sig': out_of_sample_results['mlr_sig_model'],\n",
    "                        'lasso': out_of_sample_results['lasso_model'],\n",
    "                        'bayes lasso': out_of_sample_results['bayes_lasso_model'],\n",
    "                        'ridge': out_of_sample_results['ridge_model'],\n",
    "                        'bayes ridge': out_of_sample_results['bayes_ridge_model'],\n",
    "                        'elnet': out_of_sample_results['elnet_model'],\n",
    "                        'xgb': out_of_sample_results['xgb_model'],\n",
    "                        'rf': out_of_sample_results['rf_model'],\n",
    "                        'arima': out_of_sample_results['arima_model'],\n",
    "                        'var': out_of_sample_results['var_model']\n",
    "                        }, index=['MSE', 'MAE', 'R2'])\n",
    "\n",
    "round(out_of_sample_result_frame.T, 3)"
   ]
  }
 ],
 "metadata": {
  "kernelspec": {
   "display_name": "Python 3",
   "language": "python",
   "name": "python3"
  },
  "language_info": {
   "codemirror_mode": {
    "name": "ipython",
    "version": 3
   },
   "file_extension": ".py",
   "mimetype": "text/x-python",
   "name": "python",
   "nbconvert_exporter": "python",
   "pygments_lexer": "ipython3",
   "version": "3.8.17"
  }
 },
 "nbformat": 4,
 "nbformat_minor": 2
}
